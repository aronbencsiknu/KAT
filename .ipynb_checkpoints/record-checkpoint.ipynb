{
 "cells": [
  {
   "cell_type": "code",
   "execution_count": 1,
   "id": "85253dde",
   "metadata": {},
   "outputs": [
    {
     "ename": "ModuleNotFoundError",
     "evalue": "No module named 'sounddevice'",
     "output_type": "error",
     "traceback": [
      "\u001b[1;31m---------------------------------------------------------------------------\u001b[0m",
      "\u001b[1;31mModuleNotFoundError\u001b[0m                       Traceback (most recent call last)",
      "Input \u001b[1;32mIn [1]\u001b[0m, in \u001b[0;36m<cell line: 1>\u001b[1;34m()\u001b[0m\n\u001b[1;32m----> 1\u001b[0m \u001b[38;5;28;01mimport\u001b[39;00m \u001b[38;5;21;01msounddevice\u001b[39;00m \u001b[38;5;28;01mas\u001b[39;00m \u001b[38;5;21;01msd\u001b[39;00m\n\u001b[0;32m      2\u001b[0m \u001b[38;5;28;01mfrom\u001b[39;00m \u001b[38;5;21;01mscipy\u001b[39;00m\u001b[38;5;21;01m.\u001b[39;00m\u001b[38;5;21;01mio\u001b[39;00m\u001b[38;5;21;01m.\u001b[39;00m\u001b[38;5;21;01mwavfile\u001b[39;00m \u001b[38;5;28;01mimport\u001b[39;00m write\n\u001b[0;32m      3\u001b[0m \u001b[38;5;28;01mimport\u001b[39;00m \u001b[38;5;21;01mwavio\u001b[39;00m \u001b[38;5;28;01mas\u001b[39;00m \u001b[38;5;21;01mwv\u001b[39;00m\n",
      "\u001b[1;31mModuleNotFoundError\u001b[0m: No module named 'sounddevice'"
     ]
    }
   ],
   "source": [
    "import sounddevice as sd\n",
    "from scipy.io.wavfile import write\n",
    "import wavio as wv\n",
    "import time\n",
    "from IPython.display import clear_output\n",
    "\n",
    "keys = [\"1\", \"2\", \"3\", \"4\", \"5\", \"6\", \"7\", \"8\", \"9\", \"0\",\n",
    "        \"Q\", \"W\", \"E\", \"R\", \"T\", \"Y\", \"U\", \"I\", \"O\", \"P\",\n",
    "        \"A\", \"S\", \"D\", \"F\", \"G\", \"H\", \"J\", \"K\", \"L\",\n",
    "        \"Z\", \"X\", \"C\", \"V\", \"B\", \"N\", \"M\"]\n",
    "\n",
    "freq = 44100\n",
    "duration = 10\n",
    "\n",
    "for key in keys:\n",
    "    print(\"Coming up: \" + key)\n",
    "    time.sleep(2)\n",
    "    for x in range(3):\n",
    "        print(str(3 - x), end = ' ')\n",
    "        time.sleep(1)\n",
    "    print()\n",
    "    print(\"TYPE: \"+key)\n",
    "    recording = sd.rec(int(duration * freq), samplerate=freq, channels=1)\n",
    "    sd.wait()\n",
    "    clear_output(wait=True)\n",
    "    wv.write(\"Training-Audio/\"+key+\".wav\", recording, freq, sampwidth=2)"
   ]
  },
  {
   "cell_type": "code",
   "execution_count": null,
   "id": "d357bb6b",
   "metadata": {},
   "outputs": [],
   "source": []
  },
  {
   "cell_type": "code",
   "execution_count": null,
   "id": "5fe9af58",
   "metadata": {},
   "outputs": [],
   "source": []
  },
  {
   "cell_type": "code",
   "execution_count": null,
   "id": "10f2e43f",
   "metadata": {},
   "outputs": [],
   "source": []
  }
 ],
 "metadata": {
  "kernelspec": {
   "display_name": "Python 3 (ipykernel)",
   "language": "python",
   "name": "python3"
  },
  "language_info": {
   "codemirror_mode": {
    "name": "ipython",
    "version": 3
   },
   "file_extension": ".py",
   "mimetype": "text/x-python",
   "name": "python",
   "nbconvert_exporter": "python",
   "pygments_lexer": "ipython3",
   "version": "3.9.7"
  }
 },
 "nbformat": 4,
 "nbformat_minor": 5
}
