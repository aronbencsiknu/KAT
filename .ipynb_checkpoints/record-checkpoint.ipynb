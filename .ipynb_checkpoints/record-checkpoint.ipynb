{
 "cells": [
  {
   "cell_type": "code",
   "execution_count": null,
   "id": "85253dde",
   "metadata": {},
   "outputs": [],
   "source": [
    "import sounddevice as sd\n",
    "from scipy.io.wavfile import write\n",
    "import wavio as wv\n",
    "import time\n",
    "from IPython.display import clear_output\n",
    "\n",
    "keys = [\"1\", \"2\", \"3\", \"4\", \"5\", \"6\", \"7\", \"8\", \"9\", \"0\",\n",
    "        \"Q\", \"W\", \"E\", \"R\", \"T\", \"Y\", \"U\", \"I\", \"O\", \"P\",\n",
    "        \"A\", \"S\", \"D\", \"F\", \"G\", \"H\", \"J\", \"K\", \"L\",\n",
    "        \"Z\", \"X\", \"C\", \"V\", \"B\", \"N\", \"M\", \"space\", \"enter\", \"shift\", \"escape\"]\n",
    "\n",
    "freq = 44100\n",
    "duration = 30\n",
    "\n",
    "for key in keys:\n",
    "    print(\"Coming up: \" + key)\n",
    "    time.sleep(2)\n",
    "    for x in range(3):\n",
    "        print(str(3 - x), end = ' ')\n",
    "        time.sleep(1)\n",
    "    print(\"TYPE: \"+key)\n",
    "    recording = sd.rec(int(duration * freq), samplerate=freq, channels=1)\n",
    "    sd.wait()\n",
    "    clear_output(wait=True)\n",
    "    wv.write(\"Training-Audio/\"+key+\".wav\", recording, freq, sampwidth=2)"
   ]
  },
  {
   "cell_type": "code",
   "execution_count": null,
   "id": "d357bb6b",
   "metadata": {},
   "outputs": [],
   "source": []
  },
  {
   "cell_type": "code",
   "execution_count": null,
   "id": "5fe9af58",
   "metadata": {},
   "outputs": [],
   "source": []
  },
  {
   "cell_type": "code",
   "execution_count": null,
   "id": "10f2e43f",
   "metadata": {},
   "outputs": [],
   "source": []
  }
 ],
 "metadata": {
  "kernelspec": {
   "display_name": "Python 3 (ipykernel)",
   "language": "python",
   "name": "python3"
  },
  "language_info": {
   "codemirror_mode": {
    "name": "ipython",
    "version": 3
   },
   "file_extension": ".py",
   "mimetype": "text/x-python",
   "name": "python",
   "nbconvert_exporter": "python",
   "pygments_lexer": "ipython3",
   "version": "3.9.7"
  }
 },
 "nbformat": 4,
 "nbformat_minor": 5
}
